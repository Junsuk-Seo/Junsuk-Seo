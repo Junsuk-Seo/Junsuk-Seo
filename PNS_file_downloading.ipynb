{
 "cells": [
  {
   "cell_type": "code",
   "execution_count": 1,
   "id": "27eb9840",
   "metadata": {},
   "outputs": [],
   "source": [
    "import pandas as pd\n",
    "data = pd.read_pickle('data_20230517_004379e550eb4a029ce2b4fd266e0141.pkl.bz2')"
   ]
  },
  {
   "cell_type": "code",
   "execution_count": 2,
   "id": "3bc2b54c",
   "metadata": {},
   "outputs": [],
   "source": [
    "import numpy as np\n",
    "import pandas as pd\n",
    "\n",
    "import matplotlib as mpl\n",
    "import matplotlib.pyplot as plt\n",
    "import seaborn as sns\n",
    "\n",
    "import warnings"
   ]
  },
  {
   "cell_type": "code",
   "execution_count": 3,
   "id": "edac5bd9",
   "metadata": {},
   "outputs": [],
   "source": [
    "import xgboost as xgb\n",
    "from sklearn.model_selection import train_test_split"
   ]
  },
  {
   "cell_type": "code",
   "execution_count": 4,
   "id": "3937db44",
   "metadata": {},
   "outputs": [
    {
     "name": "stdout",
     "output_type": "stream",
     "text": [
      "Size of Data: (70679, 16)\n",
      "\n",
      "primaryItemId: 3787\n",
      "itemId: 4069\n",
      "ts: 2416\n",
      "receiver: 675\n",
      "qty: 6904\n",
      "mappedYn: 2\n",
      "itemNm: 4064\n",
      "category1: 2\n",
      "category2: 6\n",
      "category3: 18\n",
      "status: 3\n",
      "spec: 1215\n",
      "unit: 5\n",
      "regDt: 1368\n",
      "leadtime: 11\n",
      "prodLeadtime: 17\n"
     ]
    }
   ],
   "source": [
    "# 데이터 확인\n",
    "print('Size of Data:', data.shape)\n",
    "print('')\n",
    "for col in data.columns:\n",
    "    print(f'{col}: {data[col].nunique()}')"
   ]
  },
  {
   "cell_type": "code",
   "execution_count": 5,
   "id": "f7ef5949",
   "metadata": {},
   "outputs": [],
   "source": [
    "data.to_csv('PNS_0518.csv', index=False, encoding = 'utf-8-sig')"
   ]
  },
  {
   "cell_type": "code",
   "execution_count": null,
   "id": "b4dd7831",
   "metadata": {},
   "outputs": [],
   "source": []
  }
 ],
 "metadata": {
  "kernelspec": {
   "display_name": "Python 3 (ipykernel)",
   "language": "python",
   "name": "python3"
  },
  "language_info": {
   "codemirror_mode": {
    "name": "ipython",
    "version": 3
   },
   "file_extension": ".py",
   "mimetype": "text/x-python",
   "name": "python",
   "nbconvert_exporter": "python",
   "pygments_lexer": "ipython3",
   "version": "3.10.8"
  }
 },
 "nbformat": 4,
 "nbformat_minor": 5
}
